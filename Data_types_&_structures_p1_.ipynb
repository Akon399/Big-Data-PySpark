{
  "nbformat": 4,
  "nbformat_minor": 0,
  "metadata": {
    "colab": {
      "provenance": []
    },
    "kernelspec": {
      "name": "python3",
      "display_name": "Python 3"
    },
    "language_info": {
      "name": "python"
    }
  },
  "cells": [
    {
      "cell_type": "code",
      "execution_count": 1,
      "metadata": {
        "id": "17gMXDtnXcuH",
        "colab": {
          "base_uri": "https://localhost:8080/"
        },
        "outputId": "4ee2e105-d7e5-4b1a-950f-c1ce03500f85"
      },
      "outputs": [
        {
          "output_type": "stream",
          "name": "stdout",
          "text": [
            "Hi Akhona Njeje :-).\n",
            "5\n",
            "3.14\n",
            "True\n"
          ]
        }
      ],
      "source": [
        "# Lecture & notes by Mr Akhona Njeje.\n",
        "# Topic : Basics on Data Types.\n",
        "# 29 May 2024.\n",
        "\n",
        "\n",
        "\n",
        "string = \"Hi Akhona Njeje :-).\"\n",
        "print(string)\n",
        "# string refers to text, words, etc.\n",
        "# strings include the methods = join(), split(), replace(), lower(), upper(), etc.\n",
        "\n",
        "integer = 5\n",
        "print(integer)\n",
        "# integer refers to numbers.\n",
        "# integers provide a wide range of functions = math.sqrt(), math.pow(), math.factorial(), int(), random.randint(), random() etc.\n",
        "\n",
        "float = 3.14\n",
        "print(float)\n",
        "# float refers to decimal numbers.\n",
        "\n",
        "boolen = True\n",
        "print(boolen)\n",
        "# boolen refers to True/False."
      ]
    },
    {
      "cell_type": "code",
      "source": [
        "# Conditional statements.\n",
        "\n",
        "x = 3\n",
        "if x > 1:\n",
        "  print(\"X is bigger than 1.\")\n",
        "\n",
        "y = 0\n",
        "if y > 1:\n",
        "  print(\"Y is bigger than 1.\")\n",
        "else:\n",
        "  print(\"Y is smaller than 1\")\n",
        "\n",
        "w = 15\n",
        "if w > 0 and w < 12:\n",
        "  print(\"W is between 0 & 12.\")\n",
        "else:\n",
        "  print(\"W is not between 0 & 12.\")\n",
        "\n",
        "z = 15\n",
        "if z > 0 or z < 12:\n",
        "  print(\"Z is between 0 & 12.\")\n",
        "else:\n",
        "  print(\"Z is not between 0 & 12.\")\n",
        "\n",
        "a = 5\n",
        "if (a > 0 and a < 12) or a == 13:\n",
        "  print(\"a is between 0 & 12 or a is 13.\")\n",
        "else:\n",
        "  print(\"a is not.\")"
      ],
      "metadata": {
        "id": "I4R4_59vygbe",
        "colab": {
          "base_uri": "https://localhost:8080/"
        },
        "outputId": "09f795b2-c73c-463b-b43c-e17c439a5284"
      },
      "execution_count": 6,
      "outputs": [
        {
          "output_type": "stream",
          "name": "stdout",
          "text": [
            "X is bigger than 1.\n",
            "Y is smaller than 1\n",
            "W is not between 0 & 12.\n",
            "Z is between 0 & 12.\n",
            "a is between 0 & 12 or a is 13.\n"
          ]
        }
      ]
    },
    {
      "cell_type": "code",
      "source": [
        "# Lists.\n",
        "\n",
        "list = [1,2,3]\n",
        "print(list)\n",
        "\n",
        "#indexing list : indexes start from zero.\n",
        "index1 = list[1]\n",
        "print(index1)\n",
        "\n",
        "\n",
        "# index1.pop() : error.\n",
        "# index1.remove(1) : error.\n",
        "#index1.sorted() : error.\n",
        "print(len(index1))"
      ],
      "metadata": {
        "id": "JtBr9C2h2yr_",
        "colab": {
          "base_uri": "https://localhost:8080/",
          "height": 211
        },
        "outputId": "df4ea466-b2ac-43c0-d24b-283c8b14b932"
      },
      "execution_count": 14,
      "outputs": [
        {
          "output_type": "stream",
          "name": "stdout",
          "text": [
            "[1, 2, 3]\n",
            "2\n"
          ]
        },
        {
          "output_type": "error",
          "ename": "TypeError",
          "evalue": "object of type 'int' has no len()",
          "traceback": [
            "\u001b[0;31m---------------------------------------------------------------------------\u001b[0m",
            "\u001b[0;31mTypeError\u001b[0m                                 Traceback (most recent call last)",
            "\u001b[0;32m<ipython-input-14-aaccbb3970d8>\u001b[0m in \u001b[0;36m<cell line: 11>\u001b[0;34m()\u001b[0m\n\u001b[1;32m      9\u001b[0m \u001b[0;34m\u001b[0m\u001b[0m\n\u001b[1;32m     10\u001b[0m \u001b[0;31m#index1.remove(1)\u001b[0m\u001b[0;34m\u001b[0m\u001b[0;34m\u001b[0m\u001b[0m\n\u001b[0;32m---> 11\u001b[0;31m \u001b[0mprint\u001b[0m\u001b[0;34m(\u001b[0m\u001b[0mlen\u001b[0m\u001b[0;34m(\u001b[0m\u001b[0mindex1\u001b[0m\u001b[0;34m)\u001b[0m\u001b[0;34m)\u001b[0m\u001b[0;34m\u001b[0m\u001b[0;34m\u001b[0m\u001b[0m\n\u001b[0m",
            "\u001b[0;31mTypeError\u001b[0m: object of type 'int' has no len()"
          ]
        }
      ]
    },
    {
      "cell_type": "code",
      "source": [
        "# Lists.\n",
        "\n",
        "# Creating a list\n",
        "fruits = [\"apple\", \"banana\", \"orange\"]\n",
        "numbers = [1, 2, 3, 4, 5]\n",
        "mixed_list = [1, \"apple\", True, 3.14]\n",
        "\n",
        "# Printing the lists\n",
        "print(fruits)       # Output: ['apple', 'banana', 'orange']\n",
        "print(numbers)      # Output: [1, 2, 3, 4, 5]\n",
        "print(mixed_list)   # Output: [1, 'apple', True, 3.14]"
      ],
      "metadata": {
        "colab": {
          "base_uri": "https://localhost:8080/"
        },
        "id": "nN18OqNN_4NU",
        "outputId": "310ca8d2-e66f-4d24-b40a-3e6467918f00"
      },
      "execution_count": 15,
      "outputs": [
        {
          "output_type": "stream",
          "name": "stdout",
          "text": [
            "['apple', 'banana', 'orange']\n",
            "[1, 2, 3, 4, 5]\n",
            "[1, 'apple', True, 3.14]\n"
          ]
        }
      ]
    },
    {
      "cell_type": "code",
      "source": [
        "# Lists.\n",
        "\n",
        "# indexing.\n",
        "\n",
        "fruits = [\"apple\", \"banana\", \"orange\"]\n",
        "print(fruits[0])     # Output: apple\n",
        "print(fruits[1])     # Output: banana\n",
        "print(fruits[2])     # Output: orange"
      ],
      "metadata": {
        "id": "6RLq99X84k6k",
        "colab": {
          "base_uri": "https://localhost:8080/"
        },
        "outputId": "a6d6e480-1579-4af7-deec-a7bbb121ee00"
      },
      "execution_count": 16,
      "outputs": [
        {
          "output_type": "stream",
          "name": "stdout",
          "text": [
            "apple\n",
            "banana\n",
            "orange\n"
          ]
        }
      ]
    },
    {
      "cell_type": "code",
      "source": [
        "# Lists.\n",
        "\n",
        "# slicing.\n",
        "\n",
        "numbers = [1, 2, 3, 4, 5]\n",
        "print(numbers[1:4])   # Output: [2, 3, 4]\n",
        "print(numbers[:3])    # Output: [1, 2, 3]\n",
        "print(numbers[2:])    # Output: [3, 4, 5]"
      ],
      "metadata": {
        "id": "hKAGDb8s6X2b",
        "colab": {
          "base_uri": "https://localhost:8080/"
        },
        "outputId": "149b6836-bd3a-4226-941e-c8a9f27238d2"
      },
      "execution_count": 17,
      "outputs": [
        {
          "output_type": "stream",
          "name": "stdout",
          "text": [
            "[2, 3, 4]\n",
            "[1, 2, 3]\n",
            "[3, 4, 5]\n"
          ]
        }
      ]
    },
    {
      "cell_type": "code",
      "source": [
        "fruits = [\"apple\", \"banana\", \"orange\"]\n",
        "fruits[1] = \"grape\"\n",
        "print(fruits)         # Output: ['apple', 'grape', 'orange']"
      ],
      "metadata": {
        "id": "5RSYw3BZ963T",
        "colab": {
          "base_uri": "https://localhost:8080/"
        },
        "outputId": "4d007ea5-2f5a-4ca2-e729-963f7cb3bcf6"
      },
      "execution_count": 18,
      "outputs": [
        {
          "output_type": "stream",
          "name": "stdout",
          "text": [
            "['apple', 'grape', 'orange']\n"
          ]
        }
      ]
    },
    {
      "cell_type": "code",
      "source": [
        "fruits = [\"apple\", \"banana\", \"orange\"]\n",
        "fruits.append(\"grape\")\n",
        "print(fruits)         # Output: ['apple', 'banana', 'orange', 'grape']"
      ],
      "metadata": {
        "id": "wczte6v11oqK",
        "colab": {
          "base_uri": "https://localhost:8080/"
        },
        "outputId": "f449bdb2-1a9e-41af-b4a9-0b0329aa2246"
      },
      "execution_count": 19,
      "outputs": [
        {
          "output_type": "stream",
          "name": "stdout",
          "text": [
            "['apple', 'banana', 'orange', 'grape']\n"
          ]
        }
      ]
    },
    {
      "cell_type": "code",
      "source": [
        "numbers = [1, 2, 3, 4, 5]\n",
        "numbers.insert(2, 10)\n",
        "print(numbers)        # Output: [1, 2, 10, 3, 4, 5]"
      ],
      "metadata": {
        "colab": {
          "base_uri": "https://localhost:8080/"
        },
        "id": "7xvUlHMOAfGV",
        "outputId": "cb0e9276-78d3-4a45-f1dd-0f425d177de6"
      },
      "execution_count": 20,
      "outputs": [
        {
          "output_type": "stream",
          "name": "stdout",
          "text": [
            "[1, 2, 10, 3, 4, 5]\n"
          ]
        }
      ]
    },
    {
      "cell_type": "code",
      "source": [
        "fruits = [\"apple\", \"banana\", \"orange\", \"banana\"]\n",
        "fruits.remove(\"banana\")\n",
        "print(fruits)"
      ],
      "metadata": {
        "colab": {
          "base_uri": "https://localhost:8080/"
        },
        "id": "jugn70CRAfVJ",
        "outputId": "bf7a2a69-a041-494b-9ff2-c3bc921fb8a8"
      },
      "execution_count": 21,
      "outputs": [
        {
          "output_type": "stream",
          "name": "stdout",
          "text": [
            "['apple', 'orange', 'banana']\n"
          ]
        }
      ]
    },
    {
      "cell_type": "code",
      "source": [
        "numbers = [1, 2, 3, 4, 5]\n",
        "popped = numbers.pop(3)\n",
        "print(numbers)        # Output: [1, 2, 3, 5]\n",
        "print(popped)         # Output: 4"
      ],
      "metadata": {
        "colab": {
          "base_uri": "https://localhost:8080/"
        },
        "id": "-Fx8STSXAfgW",
        "outputId": "6a0f8262-4883-4591-99e9-89eb833c990c"
      },
      "execution_count": 22,
      "outputs": [
        {
          "output_type": "stream",
          "name": "stdout",
          "text": [
            "[1, 2, 3, 5]\n",
            "4\n"
          ]
        }
      ]
    },
    {
      "cell_type": "code",
      "source": [
        "fruits = [\"apple\", \"banana\", \"orange\"]\n",
        "del fruits[1]\n",
        "print(fruits)         # Output: ['apple', 'orange']"
      ],
      "metadata": {
        "colab": {
          "base_uri": "https://localhost:8080/"
        },
        "id": "DSc2_PqrAfu7",
        "outputId": "a0406807-1e80-430d-d889-33cfa54cb16b"
      },
      "execution_count": 23,
      "outputs": [
        {
          "output_type": "stream",
          "name": "stdout",
          "text": [
            "['apple', 'orange']\n"
          ]
        }
      ]
    },
    {
      "cell_type": "code",
      "source": [
        "fruits = [\"apple\", \"banana\", \"orange\"]\n",
        "index = fruits.index(\"banana\")\n",
        "print(index)          # Output: 1"
      ],
      "metadata": {
        "colab": {
          "base_uri": "https://localhost:8080/"
        },
        "id": "RDWWVM-6Af40",
        "outputId": "8afd7fae-714c-4dae-8d93-c5ba8e8606c2"
      },
      "execution_count": 24,
      "outputs": [
        {
          "output_type": "stream",
          "name": "stdout",
          "text": [
            "1\n"
          ]
        }
      ]
    },
    {
      "cell_type": "code",
      "source": [
        "fruits = [\"apple\", \"banana\", \"orange\", \"banana\"]\n",
        "count = fruits.count(\"banana\")\n",
        "print(count)          # Output: 2"
      ],
      "metadata": {
        "colab": {
          "base_uri": "https://localhost:8080/"
        },
        "id": "fqm9UgM5A1PD",
        "outputId": "48d974f9-fb9d-4d47-c15b-7b814e7f245a"
      },
      "execution_count": 25,
      "outputs": [
        {
          "output_type": "stream",
          "name": "stdout",
          "text": [
            "2\n"
          ]
        }
      ]
    },
    {
      "cell_type": "code",
      "source": [
        "numbers = [5, 2, 4, 1, 3]\n",
        "numbers.sort()\n",
        "print(numbers)        # Output: [1, 2, 3, 4, 5]"
      ],
      "metadata": {
        "colab": {
          "base_uri": "https://localhost:8080/"
        },
        "id": "7Ll3SnZ5A1Rz",
        "outputId": "8cf753e5-b85e-4ab0-8c97-11611cd5153f"
      },
      "execution_count": 26,
      "outputs": [
        {
          "output_type": "stream",
          "name": "stdout",
          "text": [
            "[1, 2, 3, 4, 5]\n"
          ]
        }
      ]
    },
    {
      "cell_type": "code",
      "source": [
        "numbers = [1, 2, 3, 4, 5]\n",
        "numbers.reverse()\n",
        "print(numbers)        # Output: [5, 4, 3, 2, 1]"
      ],
      "metadata": {
        "colab": {
          "base_uri": "https://localhost:8080/"
        },
        "id": "rjEQOuZYA1Uw",
        "outputId": "3ec9b274-71be-4885-f1a9-8e653e64da02"
      },
      "execution_count": 27,
      "outputs": [
        {
          "output_type": "stream",
          "name": "stdout",
          "text": [
            "[5, 4, 3, 2, 1]\n"
          ]
        }
      ]
    },
    {
      "cell_type": "code",
      "source": [
        "# Syntax: [expression for item in iterable if condition]\n",
        "numbers = [1, 2, 3, 4, 5]\n",
        "squared = [num ** 2 for num in numbers if num % 2 == 0]\n",
        "print(squared)        # Output: [4, 16]\n",
        "\n",
        "# Example: Create a list of even numbers from 1 to 10\n",
        "evens = [num for num in range(1, 11) if num % 2 == 0]\n",
        "print(evens)          # Output: [2, 4, 6, 8, 10]"
      ],
      "metadata": {
        "colab": {
          "base_uri": "https://localhost:8080/"
        },
        "id": "zExpeh36A1X8",
        "outputId": "3a2a85ac-ddd7-4dee-bb83-76c6f4f887df"
      },
      "execution_count": 28,
      "outputs": [
        {
          "output_type": "stream",
          "name": "stdout",
          "text": [
            "[4, 16]\n",
            "[2, 4, 6, 8, 10]\n"
          ]
        }
      ]
    },
    {
      "cell_type": "code",
      "source": [
        "fruits = [\"apple\", \"banana\", \"orange\"]\n",
        "length = len(fruits)\n",
        "print(length)         # Output: 3"
      ],
      "metadata": {
        "colab": {
          "base_uri": "https://localhost:8080/"
        },
        "id": "cPebHi7EA1bT",
        "outputId": "6d47ab05-3f0b-4984-febc-f0fd6ecdc120"
      },
      "execution_count": 29,
      "outputs": [
        {
          "output_type": "stream",
          "name": "stdout",
          "text": [
            "3\n"
          ]
        }
      ]
    },
    {
      "cell_type": "code",
      "source": [
        "numbers = [1, 2, 3, 4, 5]\n",
        "minimum = min(numbers)\n",
        "maximum = max(numbers)\n",
        "print(minimum)        # Output: 1\n",
        "print(maximum)        # Output: 5"
      ],
      "metadata": {
        "colab": {
          "base_uri": "https://localhost:8080/"
        },
        "id": "k5bZ3TsFBMqY",
        "outputId": "a778b071-093f-4afd-d014-2ff691c7e17b"
      },
      "execution_count": 30,
      "outputs": [
        {
          "output_type": "stream",
          "name": "stdout",
          "text": [
            "1\n",
            "5\n"
          ]
        }
      ]
    },
    {
      "cell_type": "code",
      "source": [
        "numbers = [1, 2, 3, 4, 5]\n",
        "total = sum(numbers)\n",
        "print(total)          # Output: 15"
      ],
      "metadata": {
        "colab": {
          "base_uri": "https://localhost:8080/"
        },
        "id": "Ni7Z5FG_BMtL",
        "outputId": "249030a2-8271-4a7f-9b70-6d9ef149a7fb"
      },
      "execution_count": 31,
      "outputs": [
        {
          "output_type": "stream",
          "name": "stdout",
          "text": [
            "15\n"
          ]
        }
      ]
    },
    {
      "cell_type": "code",
      "source": [
        "numbers = [5, 2, 4, 1, 3]\n",
        "sorted_numbers = sorted(numbers)\n",
        "print(sorted_numbers)  # Output: [1, 2, 3, 4, 5]"
      ],
      "metadata": {
        "colab": {
          "base_uri": "https://localhost:8080/"
        },
        "id": "nMSc09zsBMwD",
        "outputId": "de4ed0ec-8f1d-4664-a846-ed217483dd79"
      },
      "execution_count": 32,
      "outputs": [
        {
          "output_type": "stream",
          "name": "stdout",
          "text": [
            "[1, 2, 3, 4, 5]\n"
          ]
        }
      ]
    },
    {
      "cell_type": "code",
      "source": [
        "fruits = [\"apple\", \"banana\", \"orange\"]\n",
        "fruits.clear()\n",
        "print(fruits)         # Output: []"
      ],
      "metadata": {
        "colab": {
          "base_uri": "https://localhost:8080/"
        },
        "id": "XB3zFaWpBMzO",
        "outputId": "8cdc58bb-c4fe-4806-e5a5-927fccbc8559"
      },
      "execution_count": 33,
      "outputs": [
        {
          "output_type": "stream",
          "name": "stdout",
          "text": [
            "[]\n"
          ]
        }
      ]
    },
    {
      "cell_type": "code",
      "source": [
        "fruits = [\"apple\", \"banana\", \"orange\"]\n",
        "fruits_copy = fruits.copy()\n",
        "print(fruits_copy)    # Output: ['apple', 'banana', 'orange']"
      ],
      "metadata": {
        "colab": {
          "base_uri": "https://localhost:8080/"
        },
        "id": "QhLUmYaUBM2k",
        "outputId": "9574dde7-81ea-4d06-eb8a-82209d620854"
      },
      "execution_count": 34,
      "outputs": [
        {
          "output_type": "stream",
          "name": "stdout",
          "text": [
            "['apple', 'banana', 'orange']\n"
          ]
        }
      ]
    },
    {
      "cell_type": "code",
      "source": [
        "# Lists.\n",
        "\n",
        "# Nested lists.\n",
        "\n",
        "nested_list = [[1, 2, 3], [4, 5, 6], [7, 8, 9]]\n",
        "print(nested_list[1])            # Output: [4, 5, 6]\n",
        "print(nested_list[1][2])         # Output: 6"
      ],
      "metadata": {
        "colab": {
          "base_uri": "https://localhost:8080/"
        },
        "id": "85iziPS5BM9k",
        "outputId": "938d3a56-3963-4fd5-baef-1d560f356e5e"
      },
      "execution_count": 35,
      "outputs": [
        {
          "output_type": "stream",
          "name": "stdout",
          "text": [
            "[4, 5, 6]\n",
            "6\n"
          ]
        }
      ]
    },
    {
      "cell_type": "code",
      "source": [
        "# Lists.\n",
        "\n",
        "# Use Cases and Applications\n",
        "# Lists are widely used in Python programming and find an application in various scenarios, including:\n",
        "### Storing and managing collections of data.\n",
        "### Iterating over elements using loops.\n",
        "### Implementing stacks, queues, and other data structures.\n",
        "### Sorting and manipulating data.\n",
        "### Storing results and generating reports."
      ],
      "metadata": {
        "id": "_XM0MOWhBNAW"
      },
      "execution_count": null,
      "outputs": []
    },
    {
      "cell_type": "code",
      "source": [
        "# Functions.\n",
        "\n",
        "def squared(x:int):\n",
        "  y = x**2\n",
        "  return(y)\n",
        "\n",
        "print(squared(3))\n"
      ],
      "metadata": {
        "colab": {
          "base_uri": "https://localhost:8080/"
        },
        "id": "q0WMJ0VFBNDT",
        "outputId": "acea2e4d-284b-4385-ced2-dfdf5fe84e10"
      },
      "execution_count": 36,
      "outputs": [
        {
          "output_type": "stream",
          "name": "stdout",
          "text": [
            "9\n"
          ]
        }
      ]
    },
    {
      "cell_type": "code",
      "source": [
        "# Functions.\n",
        "\n",
        "def power(a, b):\n",
        "  return a**b\n",
        "\n",
        "print(power(3, 3))"
      ],
      "metadata": {
        "colab": {
          "base_uri": "https://localhost:8080/"
        },
        "id": "6-QMtWrABNGt",
        "outputId": "f0be2f65-cd3c-4dc4-e06d-d30580f64e9c"
      },
      "execution_count": 37,
      "outputs": [
        {
          "output_type": "stream",
          "name": "stdout",
          "text": [
            "27\n"
          ]
        }
      ]
    }
  ]
}